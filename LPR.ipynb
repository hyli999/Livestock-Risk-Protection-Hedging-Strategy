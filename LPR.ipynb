{
 "cells": [
  {
   "cell_type": "code",
   "execution_count": 1,
   "id": "f9988168",
   "metadata": {},
   "outputs": [
    {
     "name": "stdout",
     "output_type": "stream",
     "text": [
      "Requirement already satisfied: requests in ./opt/anaconda3/lib/python3.8/site-packages (2.25.1)\n",
      "Requirement already satisfied: beautifulsoup4 in ./opt/anaconda3/lib/python3.8/site-packages (4.9.3)\n",
      "Requirement already satisfied: soupsieve>1.2 in ./opt/anaconda3/lib/python3.8/site-packages (from beautifulsoup4) (2.2.1)\n",
      "Requirement already satisfied: urllib3<1.27,>=1.21.1 in ./opt/anaconda3/lib/python3.8/site-packages (from requests) (1.26.4)\n",
      "Requirement already satisfied: idna<3,>=2.5 in ./opt/anaconda3/lib/python3.8/site-packages (from requests) (2.10)\n",
      "Requirement already satisfied: certifi>=2017.4.17 in ./opt/anaconda3/lib/python3.8/site-packages (from requests) (2020.12.5)\n",
      "Requirement already satisfied: chardet<5,>=3.0.2 in ./opt/anaconda3/lib/python3.8/site-packages (from requests) (4.0.0)\n",
      "Note: you may need to restart the kernel to use updated packages.\n"
     ]
    }
   ],
   "source": [
    "pip install requests beautifulsoup4"
   ]
  },
  {
   "cell_type": "code",
   "execution_count": 2,
   "id": "4fce0ba9",
   "metadata": {},
   "outputs": [
    {
     "ename": "Exception",
     "evalue": "No tables found on the page",
     "output_type": "error",
     "traceback": [
      "\u001b[0;31m---------------------------------------------------------------------------\u001b[0m",
      "\u001b[0;31mException\u001b[0m                                 Traceback (most recent call last)",
      "\u001b[0;32m<ipython-input-2-6feca1be42cd>\u001b[0m in \u001b[0;36m<module>\u001b[0;34m\u001b[0m\n\u001b[1;32m     46\u001b[0m \u001b[0;34m\u001b[0m\u001b[0m\n\u001b[1;32m     47\u001b[0m \u001b[0;31m# Fetch and print premium rates\u001b[0m\u001b[0;34m\u001b[0m\u001b[0;34m\u001b[0m\u001b[0;34m\u001b[0m\u001b[0m\n\u001b[0;32m---> 48\u001b[0;31m \u001b[0mpremium_rates\u001b[0m \u001b[0;34m=\u001b[0m \u001b[0mget_premium_rates\u001b[0m\u001b[0;34m(\u001b[0m\u001b[0;34m)\u001b[0m\u001b[0;34m\u001b[0m\u001b[0;34m\u001b[0m\u001b[0m\n\u001b[0m\u001b[1;32m     49\u001b[0m \u001b[0;32mfor\u001b[0m \u001b[0mrate\u001b[0m \u001b[0;32min\u001b[0m \u001b[0mpremium_rates\u001b[0m\u001b[0;34m:\u001b[0m\u001b[0;34m\u001b[0m\u001b[0;34m\u001b[0m\u001b[0m\n\u001b[1;32m     50\u001b[0m     \u001b[0mprint\u001b[0m\u001b[0;34m(\u001b[0m\u001b[0mrate\u001b[0m\u001b[0;34m)\u001b[0m\u001b[0;34m\u001b[0m\u001b[0;34m\u001b[0m\u001b[0m\n",
      "\u001b[0;32m<ipython-input-2-6feca1be42cd>\u001b[0m in \u001b[0;36mget_premium_rates\u001b[0;34m()\u001b[0m\n\u001b[1;32m     20\u001b[0m     \u001b[0;31m# Check if any tables were found\u001b[0m\u001b[0;34m\u001b[0m\u001b[0;34m\u001b[0m\u001b[0;34m\u001b[0m\u001b[0m\n\u001b[1;32m     21\u001b[0m     \u001b[0;32mif\u001b[0m \u001b[0;32mnot\u001b[0m \u001b[0mtables\u001b[0m\u001b[0;34m:\u001b[0m\u001b[0;34m\u001b[0m\u001b[0;34m\u001b[0m\u001b[0m\n\u001b[0;32m---> 22\u001b[0;31m         \u001b[0;32mraise\u001b[0m \u001b[0mException\u001b[0m\u001b[0;34m(\u001b[0m\u001b[0;34m'No tables found on the page'\u001b[0m\u001b[0;34m)\u001b[0m\u001b[0;34m\u001b[0m\u001b[0;34m\u001b[0m\u001b[0m\n\u001b[0m\u001b[1;32m     23\u001b[0m \u001b[0;34m\u001b[0m\u001b[0m\n\u001b[1;32m     24\u001b[0m     \u001b[0;31m# Process the first table as an example\u001b[0m\u001b[0;34m\u001b[0m\u001b[0;34m\u001b[0m\u001b[0;34m\u001b[0m\u001b[0m\n",
      "\u001b[0;31mException\u001b[0m: No tables found on the page"
     ]
    }
   ],
   "source": [
    "import requests\n",
    "from bs4 import BeautifulSoup\n",
    "\n",
    "# URL of the USDA RMA Livestock Reports page\n",
    "url = 'https://www.rma.usda.gov/en/Information-Tools/Livestock-Reports'\n",
    "\n",
    "# Function to get premium rates from the USDA RMA website\n",
    "def get_premium_rates():\n",
    "    response = requests.get(url)\n",
    "    if response.status_code != 200:\n",
    "        raise Exception('Failed to load page')\n",
    "\n",
    "    soup = BeautifulSoup(response.content, 'html.parser')\n",
    "\n",
    "    # Locate the specific table or data element containing premium rates\n",
    "    # This will depend on the structure of the USDA RMA page\n",
    "    # For the sake of this example, we'll assume the data is in a table\n",
    "    tables = soup.find_all('table')\n",
    "\n",
    "    # Check if any tables were found\n",
    "    if not tables:\n",
    "        raise Exception('No tables found on the page')\n",
    "\n",
    "    # Process the first table as an example\n",
    "    table = tables[0]\n",
    "    rows = table.find_all('tr')\n",
    "\n",
    "    premium_rates = []\n",
    "\n",
    "    for row in rows[1:]:  # Skip the header row\n",
    "        cols = row.find_all('td')\n",
    "        # Extract data from each column\n",
    "        livestock_type = cols[0].text.strip()\n",
    "        coverage_level = cols[1].text.strip()\n",
    "        premium_rate = cols[2].text.strip()\n",
    "        expected_ending_value = cols[3].text.strip()\n",
    "\n",
    "        premium_rates.append({\n",
    "            'Livestock Type': livestock_type,\n",
    "            'Coverage Level': coverage_level,\n",
    "            'Premium Rate': premium_rate,\n",
    "            'Expected Ending Value': expected_ending_value,\n",
    "        })\n",
    "\n",
    "    return premium_rates\n",
    "\n",
    "# Fetch and print premium rates\n",
    "premium_rates = get_premium_rates()\n",
    "for rate in premium_rates:\n",
    "    print(rate)"
   ]
  },
  {
   "cell_type": "code",
   "execution_count": 5,
   "id": "98b22495",
   "metadata": {},
   "outputs": [
    {
     "name": "stderr",
     "output_type": "stream",
     "text": [
      "\r",
      "[*********************100%%**********************]  1 of 1 completed"
     ]
    },
    {
     "name": "stdout",
     "output_type": "stream",
     "text": [
      "            Open  High    Low  Close  Adj Close  Volume\n",
      "Date                                                   \n",
      "2023-12-22  9.88  9.96  9.580   9.59       9.59   89100\n",
      "2023-12-26  9.57  9.74  9.390   9.68       9.68   82700\n",
      "2023-12-27  9.75  9.75  9.390   9.66       9.66   92300\n",
      "2023-12-28  9.58  9.76  9.344   9.36       9.36   43400\n",
      "2023-12-29  9.27  9.61  9.250   9.56       9.56   53800\n"
     ]
    },
    {
     "name": "stderr",
     "output_type": "stream",
     "text": [
      "\n"
     ]
    }
   ],
   "source": [
    "import yfinance as yf\n",
    "\n",
    "def fetch_futures_data(ticker, start_date, end_date):\n",
    "    futures = yf.download(ticker, start=start_date, end=end_date)\n",
    "    return futures\n",
    "\n",
    "# Example usage\n",
    "futures_ticker = 'LE'  # Example ticker for Live Cattle futures\n",
    "start_date = '2023-01-01'\n",
    "end_date = '2024-01-01'\n",
    "\n",
    "futures_data = fetch_futures_data(futures_ticker, start_date, end_date)\n",
    "print(futures_data.tail())"
   ]
  },
  {
   "cell_type": "code",
   "execution_count": 4,
   "id": "2df9c7fd",
   "metadata": {},
   "outputs": [
    {
     "name": "stdout",
     "output_type": "stream",
     "text": [
      "Collecting yfinance\n",
      "  Downloading yfinance-0.2.41-py2.py3-none-any.whl (73 kB)\n",
      "\u001b[K     |████████████████████████████████| 73 kB 2.3 MB/s eta 0:00:01\n",
      "\u001b[?25hCollecting beautifulsoup4>=4.11.1\n",
      "  Downloading beautifulsoup4-4.12.3-py3-none-any.whl (147 kB)\n",
      "\u001b[K     |████████████████████████████████| 147 kB 2.1 MB/s eta 0:00:01\n",
      "\u001b[?25hCollecting multitasking>=0.0.7\n",
      "  Downloading multitasking-0.0.11-py3-none-any.whl (8.5 kB)\n",
      "Collecting peewee>=3.16.2\n",
      "  Downloading peewee-3.17.6.tar.gz (3.0 MB)\n",
      "\u001b[K     |████████████████████████████████| 3.0 MB 3.6 MB/s eta 0:00:01\n",
      "\u001b[?25h  Installing build dependencies ... \u001b[?25ldone\n",
      "\u001b[?25h  Getting requirements to build wheel ... \u001b[?25ldone\n",
      "\u001b[?25h    Preparing wheel metadata ... \u001b[?25ldone\n",
      "\u001b[?25hCollecting pytz>=2022.5\n",
      "  Downloading pytz-2024.1-py2.py3-none-any.whl (505 kB)\n",
      "\u001b[K     |████████████████████████████████| 505 kB 3.4 MB/s eta 0:00:01\n",
      "\u001b[?25hCollecting platformdirs>=2.0.0\n",
      "  Downloading platformdirs-4.2.2-py3-none-any.whl (18 kB)\n",
      "Collecting requests>=2.31\n",
      "  Downloading requests-2.32.3-py3-none-any.whl (64 kB)\n",
      "\u001b[K     |████████████████████████████████| 64 kB 3.8 MB/s eta 0:00:01\n",
      "\u001b[?25hCollecting frozendict>=2.3.4\n",
      "  Downloading frozendict-2.4.4.tar.gz (315 kB)\n",
      "\u001b[K     |████████████████████████████████| 315 kB 3.3 MB/s eta 0:00:01\n",
      "\u001b[?25h  Installing build dependencies ... \u001b[?25ldone\n",
      "\u001b[?25h  Getting requirements to build wheel ... \u001b[?25ldone\n",
      "\u001b[?25h    Preparing wheel metadata ... \u001b[?25ldone\n",
      "\u001b[?25hCollecting lxml>=4.9.1\n",
      "  Downloading lxml-5.2.2-cp38-cp38-macosx_10_9_x86_64.whl (4.5 MB)\n",
      "\u001b[K     |████████████████████████████████| 4.5 MB 852 kB/s eta 0:00:01\n",
      "\u001b[?25hRequirement already satisfied: numpy>=1.16.5 in ./opt/anaconda3/lib/python3.8/site-packages (from yfinance) (1.20.1)\n",
      "Requirement already satisfied: html5lib>=1.1 in ./opt/anaconda3/lib/python3.8/site-packages (from yfinance) (1.1)\n",
      "Collecting pandas>=1.3.0\n",
      "  Downloading pandas-2.0.3-cp38-cp38-macosx_10_9_x86_64.whl (11.7 MB)\n",
      "\u001b[K     |████████████████████████████████| 11.7 MB 856 kB/s eta 0:00:01\n",
      "\u001b[?25hRequirement already satisfied: soupsieve>1.2 in ./opt/anaconda3/lib/python3.8/site-packages (from beautifulsoup4>=4.11.1->yfinance) (2.2.1)\n",
      "Requirement already satisfied: webencodings in ./opt/anaconda3/lib/python3.8/site-packages (from html5lib>=1.1->yfinance) (0.5.1)\n",
      "Requirement already satisfied: six>=1.9 in ./opt/anaconda3/lib/python3.8/site-packages (from html5lib>=1.1->yfinance) (1.15.0)\n",
      "Collecting tzdata>=2022.1\n",
      "  Downloading tzdata-2024.1-py2.py3-none-any.whl (345 kB)\n",
      "\u001b[K     |████████████████████████████████| 345 kB 4.1 MB/s eta 0:00:01\n",
      "\u001b[?25hCollecting numpy>=1.16.5\n",
      "  Downloading numpy-1.24.4-cp38-cp38-macosx_10_9_x86_64.whl (19.8 MB)\n",
      "\u001b[K     |████████████████████████████████| 19.8 MB 758 kB/s eta 0:00:01\n",
      "\u001b[?25hCollecting python-dateutil>=2.8.2\n",
      "  Downloading python_dateutil-2.9.0.post0-py2.py3-none-any.whl (229 kB)\n",
      "\u001b[K     |████████████████████████████████| 229 kB 3.5 MB/s eta 0:00:01\n",
      "\u001b[?25hRequirement already satisfied: certifi>=2017.4.17 in ./opt/anaconda3/lib/python3.8/site-packages (from requests>=2.31->yfinance) (2020.12.5)\n",
      "Collecting charset-normalizer<4,>=2\n",
      "  Downloading charset_normalizer-3.3.2-cp38-cp38-macosx_10_9_x86_64.whl (121 kB)\n",
      "\u001b[K     |████████████████████████████████| 121 kB 3.3 MB/s eta 0:00:01\n",
      "\u001b[?25hRequirement already satisfied: urllib3<3,>=1.21.1 in ./opt/anaconda3/lib/python3.8/site-packages (from requests>=2.31->yfinance) (1.26.4)\n",
      "Requirement already satisfied: idna<4,>=2.5 in ./opt/anaconda3/lib/python3.8/site-packages (from requests>=2.31->yfinance) (2.10)\n",
      "Building wheels for collected packages: frozendict, peewee\n",
      "  Building wheel for frozendict (PEP 517) ... \u001b[?25ldone\n",
      "\u001b[?25h  Created wheel for frozendict: filename=frozendict-2.4.4-cp38-cp38-macosx_10_9_x86_64.whl size=37260 sha256=8fba240f9577cc3d23a695a6c75993672984d765bb63a5df5e3de3cd8b28afd6\n",
      "  Stored in directory: /Users/hongyuli/Library/Caches/pip/wheels/7d/65/20/a8f7d1a2a99c9db2dfb0f83dddac9e847b02f45040768bf264\n",
      "  Building wheel for peewee (PEP 517) ... \u001b[?25ldone\n",
      "\u001b[?25h  Created wheel for peewee: filename=peewee-3.17.6-cp38-cp38-macosx_10_9_x86_64.whl size=266998 sha256=e7e00d785bca53cc696efbb80529c0a5d9bf70b20c5c1c66396c67af70edd211\n",
      "  Stored in directory: /Users/hongyuli/Library/Caches/pip/wheels/3a/cd/3a/abf2568bf80fd95a4be8f7954d9e4eefc190c1233516a0a029\n",
      "Successfully built frozendict peewee\n",
      "Installing collected packages: tzdata, pytz, python-dateutil, numpy, charset-normalizer, requests, platformdirs, peewee, pandas, multitasking, lxml, frozendict, beautifulsoup4, yfinance\n",
      "  Attempting uninstall: pytz\n",
      "    Found existing installation: pytz 2021.1\n",
      "    Uninstalling pytz-2021.1:\n",
      "      Successfully uninstalled pytz-2021.1\n",
      "  Attempting uninstall: python-dateutil\n",
      "    Found existing installation: python-dateutil 2.8.1\n",
      "    Uninstalling python-dateutil-2.8.1:\n",
      "      Successfully uninstalled python-dateutil-2.8.1\n",
      "  Attempting uninstall: numpy\n",
      "    Found existing installation: numpy 1.20.1\n",
      "    Uninstalling numpy-1.20.1:\n",
      "      Successfully uninstalled numpy-1.20.1\n",
      "  Attempting uninstall: requests\n",
      "    Found existing installation: requests 2.25.1\n",
      "    Uninstalling requests-2.25.1:\n",
      "      Successfully uninstalled requests-2.25.1\n",
      "  Attempting uninstall: pandas\n",
      "    Found existing installation: pandas 1.2.4\n",
      "    Uninstalling pandas-1.2.4:\n",
      "      Successfully uninstalled pandas-1.2.4\n",
      "  Attempting uninstall: lxml\n",
      "    Found existing installation: lxml 4.6.3\n",
      "    Uninstalling lxml-4.6.3:\n",
      "      Successfully uninstalled lxml-4.6.3\n",
      "  Attempting uninstall: beautifulsoup4\n",
      "    Found existing installation: beautifulsoup4 4.9.3\n",
      "    Uninstalling beautifulsoup4-4.9.3:\n",
      "      Successfully uninstalled beautifulsoup4-4.9.3\n",
      "\u001b[31mERROR: pip's dependency resolver does not currently take into account all the packages that are installed. This behaviour is the source of the following dependency conflicts.\n",
      "conda-repo-cli 1.0.4 requires pathlib, which is not installed.\n",
      "anaconda-project 0.9.1 requires ruamel-yaml, which is not installed.\n",
      "scipy 1.6.2 requires numpy<1.23.0,>=1.16.5, but you have numpy 1.24.4 which is incompatible.\u001b[0m\n",
      "Successfully installed beautifulsoup4-4.12.3 charset-normalizer-3.3.2 frozendict-2.4.4 lxml-5.2.2 multitasking-0.0.11 numpy-1.24.4 pandas-2.0.3 peewee-3.17.6 platformdirs-4.2.2 python-dateutil-2.9.0.post0 pytz-2024.1 requests-2.32.3 tzdata-2024.1 yfinance-0.2.41\n",
      "Note: you may need to restart the kernel to use updated packages.\n"
     ]
    }
   ],
   "source": [
    "pip install yfinance"
   ]
  },
  {
   "cell_type": "code",
   "execution_count": null,
   "id": "246566bd",
   "metadata": {},
   "outputs": [],
   "source": []
  }
 ],
 "metadata": {
  "kernelspec": {
   "display_name": "Python 3",
   "language": "python",
   "name": "python3"
  },
  "language_info": {
   "codemirror_mode": {
    "name": "ipython",
    "version": 3
   },
   "file_extension": ".py",
   "mimetype": "text/x-python",
   "name": "python",
   "nbconvert_exporter": "python",
   "pygments_lexer": "ipython3",
   "version": "3.8.8"
  }
 },
 "nbformat": 4,
 "nbformat_minor": 5
}
